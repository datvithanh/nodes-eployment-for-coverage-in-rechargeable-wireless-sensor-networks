{
 "cells": [
  {
   "cell_type": "code",
   "execution_count": 1,
   "metadata": {},
   "outputs": [],
   "source": [
    "import math\n",
    "\n",
    "from ortools.sat.python import cp_model\n",
    "\n",
    "from inp import Input, Constant"
   ]
  },
  {
   "cell_type": "code",
   "execution_count": 27,
   "metadata": {},
   "outputs": [],
   "source": [
    "inp = Input.from_file('data/targets/sr5_not90.json')"
   ]
  },
  {
   "cell_type": "markdown",
   "metadata": {},
   "source": [
    "# ILP"
   ]
  },
  {
   "cell_type": "code",
   "execution_count": 28,
   "metadata": {},
   "outputs": [],
   "source": [
    "max_sensors = [[0]*inp.n for _ in range(inp.n)]\n",
    "recharging_rate = [[0]*inp.n for _ in range(inp.n)]\n",
    "for cell in inp.cells:\n",
    "    if len(inp.T[cell]) == 0:\n",
    "        max_sensors[cell.x][cell.y] = 0 \n",
    "        continue\n",
    "    max_sensors[cell.x][cell.y] = math.ceil(Constant.P/cell.recharging_rate)\n",
    "    recharging_rate[cell.x][cell.y] = cell.recharging_rate\n",
    "\n",
    "targets = []\n",
    "target_cells = [[] for _ in range(inp.number_of_targets)]\n",
    "for ind, target in enumerate(inp.targets):\n",
    "    targets.append((target.x, target.y))\n",
    "    for cell in inp.C[target]:\n",
    "        target_cells[ind].append((cell.x, cell.y))\n",
    "\n",
    "model = cp_model.CpModel()\n",
    "\n",
    "x = []\n",
    "    \n",
    "for i in range(inp.n):\n",
    "    x.append([model.NewIntVar(0, max_sensors[i][j] ,f'x_{i}_{j}') for j in range(inp.n)])\n",
    "\n",
    "for cells in target_cells:\n",
    "    model.Add(sum([int(recharging_rate[i][j]*1e3)*x[i][j] for i,j in cells]) >= Constant.P*1000)\n",
    "\n",
    "model.Minimize(sum([val for val in [sum(row) for row in x]]))\n",
    "\n",
    "solver = cp_model.CpSolver()\n",
    "status = solver.Solve(model)"
   ]
  },
  {
   "cell_type": "code",
   "execution_count": 30,
   "metadata": {},
   "outputs": [
    {
     "data": {
      "text/plain": [
       "<matplotlib.axes._subplots.AxesSubplot at 0x10bf4e240>"
      ]
     },
     "execution_count": 30,
     "metadata": {},
     "output_type": "execute_result"
    },
    {
     "data": {
      "image/png": "[encoded data removed]",
      "text/plain": [
       "<Figure size 432x288 with 2 Axes>"
      ]
     },
     "metadata": {
      "needs_background": "light"
     },
     "output_type": "display_data"
    }
   ],
   "source": [
    "%matplotlib inline\n",
    "import seaborn as sns\n",
    "c = [[] for _ in range(inp.n)]\n",
    "for i in range(inp.n):\n",
    "    for j in range(inp.n):\n",
    "        val = 0\n",
    "        if (i,j) in targets:\n",
    "            val = 1\n",
    "        c[i].append(val)\n",
    "sns.heatmap(c, vmin=0, vmax=1)"
   ]
  },
  {
   "cell_type": "code",
   "execution_count": 31,
   "metadata": {},
   "outputs": [
    {
     "data": {
      "text/plain": [
       "<matplotlib.axes._subplots.AxesSubplot at 0x10bf48160>"
      ]
     },
     "execution_count": 31,
     "metadata": {},
     "output_type": "execute_result"
    },
    {
     "data": {
      "image/png": "[encoded data removed]",
      "text/plain": [
       "<Figure size 432x288 with 2 Axes>"
      ]
     },
     "metadata": {
      "needs_background": "light"
     },
     "output_type": "display_data"
    }
   ],
   "source": [
    "c = [[] for _ in range(inp.n)]\n",
    "for i in range(inp.n):\n",
    "    for j in range(inp.n):\n",
    "        val = 0\n",
    "        if (i,j) in targets:\n",
    "            val = 1\n",
    "        c[i].append(solver.Value(x[i][j]))\n",
    "print()\n",
    "sns.heatmap(c, vmin=0, vmax=1)"
   ]
  },
  {
   "cell_type": "code",
   "execution_count": 20,
   "metadata": {},
   "outputs": [],
   "source": [
    "result = [[0]*inp.n for _ in range(inp.n)]\n",
    "short_fall = {}\n",
    "while True:\n",
    "    stop = True\n",
    "    for target in inp.targets:\n",
    "        sum_rr = 0\n",
    "        for cell in inp.C[target]:\n",
    "            sum_rr += result[cell.x][cell.y]*cell.recharging_rate\n",
    "        short_fall[(target.x, target.y)] = max(Constant.P - sum_rr, 0)\n",
    "        if sum_rr < Constant.P:\n",
    "            stop = False\n",
    "            \n",
    "    if stop:\n",
    "        break\n",
    "    \n",
    "    best_coor = (0,0)\n",
    "    dmax = 0 \n",
    "    \n",
    "    for cell in inp.cells:\n",
    "        d = 0\n",
    "        for target in inp.T[cell]:\n",
    "            d += min(short_fall[(target.x, target.y)], cell.recharging_rate)\n",
    "        if d > dmax:\n",
    "            dmax = d\n",
    "            best_coor = (cell.x, cell.y)\n",
    "            \n",
    "    result[best_coor[0]][best_coor[1]] += 1"
   ]
  },
  {
   "cell_type": "code",
   "execution_count": 21,
   "metadata": {},
   "outputs": [
    {
     "data": {
      "text/plain": [
       "26"
      ]
     },
     "execution_count": 21,
     "metadata": {},
     "output_type": "execute_result"
    }
   ],
   "source": [
    "sum([sum(tmp) for tmp in result])"
   ]
  },
  {
   "cell_type": "code",
   "execution_count": 2,
   "metadata": {},
   "outputs": [],
   "source": [
    "%matplotlib inline\n",
    "import matplotlib.pyplot as plt\n",
    "import seaborn as sns"
   ]
  },
  {
   "cell_type": "code",
   "execution_count": 17,
   "metadata": {},
   "outputs": [],
   "source": [
    "def read_result(fp):\n",
    "    fns, num_of_ss = [], [] \n",
    "    with open(fp) as f:\n",
    "        for line in f:\n",
    "            fn, ss = line.strip().split(' ')\n",
    "            ss = int(ss)\n",
    "            fns.append(fn)\n",
    "            num_of_ss.append(ss)\n",
    "    return fns, num_of_ss\n",
    "            \n",
    "heu_range_fns, heu_range_ss = read_result('result/heuristic/ranges.txt')\n",
    "heu_target_fns, heu_target_ss = read_result('result/heuristic/targets.txt')\n",
    "ilp_range_fns, ilp_range_ss = read_result('result/ilp/ranges.txt')\n",
    "ilp_target_fns, ilp_target_ss = read_result('result/ilp/targets.txt')"
   ]
  },
  {
   "cell_type": "code",
   "execution_count": 23,
   "metadata": {},
   "outputs": [
    {
     "data": {
      "image/png": "[encoded data removed]",
      "text/plain": [
       "<Figure size 432x288 with 1 Axes>"
      ]
     },
     "metadata": {
      "needs_background": "light"
     },
     "output_type": "display_data"
    }
   ],
   "source": [
    "x = list(range(3,16))\n",
    "plt.plot(x, heu_range_ss, label='Heuristic')\n",
    "plt.plot(x, ilp_range_ss, label='ILP')\n",
    "plt.legend(loc=\"upper right\")\n",
    "plt.xlabel('Sensing range')\n",
    "plt.ylabel('Number of sensors')\n",
    "\n",
    "plt.savefig('ss.eps', format='eps')\n",
    "\n",
    "plt.show()"
   ]
  },
  {
   "cell_type": "code",
   "execution_count": 22,
   "metadata": {},
   "outputs": [
    {
     "data": {
      "image/png": "[encoded data removed]",
      "text/plain": [
       "<Figure size 432x288 with 1 Axes>"
      ]
     },
     "metadata": {
      "needs_background": "light"
     },
     "output_type": "display_data"
    }
   ],
   "source": [
    "x = list(range(9,136,9))\n",
    "plt.plot(x, heu_target_ss, label='Heuristic')\n",
    "plt.plot(x, ilp_target_ss, label='ILP')\n",
    "plt.legend(loc=\"upper left\")\n",
    "plt.xlabel('Number of targets')\n",
    "plt.ylabel('Number of sensors')\n",
    "\n",
    "plt.savefig('targets.eps', format='eps')\n",
    "\n",
    "plt.show()\n"
   ]
  },
  {
   "cell_type": "code",
   "execution_count": 24,
   "metadata": {},
   "outputs": [
    {
     "ename": "NameError",
     "evalue": "name 'heuristic_target_ss' is not defined",
     "output_type": "error",
     "traceback": [
      "\u001b[0;31m-------------------------------------------------\u001b[0m",
      "\u001b[0;31mNameError\u001b[0m       Traceback (most recent call last)",
      "\u001b[0;32m<ipython-input-24-89b52fb74cd5>\u001b[0m in \u001b[0;36m<module>\u001b[0;34m\u001b[0m\n\u001b[0;32m----> 1\u001b[0;31m \u001b[0msum\u001b[0m\u001b[0;34m(\u001b[0m\u001b[0mheuristic_target_ss\u001b[0m\u001b[0;34m)\u001b[0m\u001b[0;34m/\u001b[0m\u001b[0msum\u001b[0m\u001b[0;34m(\u001b[0m\u001b[0milp_target_ss\u001b[0m\u001b[0;34m)\u001b[0m\u001b[0;34m\u001b[0m\u001b[0;34m\u001b[0m\u001b[0m\n\u001b[0m",
      "\u001b[0;31mNameError\u001b[0m: name 'heuristic_target_ss' is not defined"
     ]
    }
   ],
   "source": [
    "sum(heuristic_target_ss)/sum(ilp_target_ss)"
   ]
  },
  {
   "cell_type": "code",
   "execution_count": null,
   "metadata": {},
   "outputs": [],
   "source": []
  }
 ],
 "metadata": {
  "kernelspec": {
   "display_name": "Python 3",
   "language": "python",
   "name": "python3"
  },
  "language_info": {
   "codemirror_mode": {
    "name": "ipython",
    "version": 3
   },
   "file_extension": ".py",
   "mimetype": "text/x-python",
   "name": "python",
   "nbconvert_exporter": "python",
   "pygments_lexer": "ipython3",
   "version": "3.7.2"
  }
 },
 "nbformat": 4,
 "nbformat_minor": 2
}
